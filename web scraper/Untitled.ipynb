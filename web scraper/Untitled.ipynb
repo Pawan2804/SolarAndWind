{
 "cells": [
  {
   "cell_type": "code",
   "execution_count": 3,
   "metadata": {},
   "outputs": [
    {
     "name": "stdout",
     "output_type": "stream",
     "text": [
      "<class 'str'>\n"
     ]
    }
   ],
   "source": [
    "import datetime\n",
    "\n",
    "start = datetime.datetime.strptime(\"01-01-2010\", \"%d-%m-%Y\")\n",
    "end = datetime.datetime.strptime(\"01-01-2020\", \"%d-%m-%Y\")\n",
    "date_generated = [start + datetime.timedelta(days=x) for x in range(0, (end-start).days)]\n",
    "\n",
    "print(type(date_generated[0].strftime(\"%Y%m%d\")))"
   ]
  },
  {
   "cell_type": "code",
   "execution_count": 5,
   "metadata": {},
   "outputs": [],
   "source": [
    "import pandas as pd\n",
    "\n",
    "l = (pd.DataFrame(columns=['NULL'], index=pd.date_range('2020-01-01T06:00:00Z', '2020-01-01T17:30:00Z', freq='30T')).between_time('06:00','17:30').index.strftime('%H:%M'))"
   ]
  },
  {
   "cell_type": "code",
   "execution_count": 6,
   "metadata": {},
   "outputs": [
    {
     "name": "stdout",
     "output_type": "stream",
     "text": [
      "Index(['06:00', '06:30', '07:00', '07:30', '08:00', '08:30', '09:00', '09:30',\n",
      "       '10:00', '10:30', '11:00', '11:30', '12:00', '12:30', '13:00', '13:30',\n",
      "       '14:00', '14:30', '15:00', '15:30', '16:00', '16:30', '17:00', '17:30'],\n",
      "      dtype='object')\n"
     ]
    }
   ],
   "source": [
    "print(l)"
   ]
  },
  {
   "cell_type": "code",
   "execution_count": 1,
   "metadata": {},
   "outputs": [],
   "source": [
    "years = ['2010','2011','2012','2013','2014','2015','2016','2017','2018','2019']\n",
    "leapYears = ['2012','2016']\n",
    "Months = ['0101','0131','0201','0228','0301','0331','0401','0430','0501','0531','0601','0630','0701','0731','0801','0831','0901','0930','1001','1031','1101','1130','1201','1231']\n",
    "    "
   ]
  },
  {
   "cell_type": "code",
   "execution_count": 2,
   "metadata": {},
   "outputs": [],
   "source": [
    "urls = []\n",
    "for year in years:\n",
    "    i = 0;\n",
    "    length = len(Months)\n",
    "    while i < length - 1:\n",
    "        start = year+Months[i]\n",
    "        if i == 2:\n",
    "            if year in leapYears:\n",
    "                end = year+'0229'\n",
    "        else:\n",
    "            end = year+Months[i+1]\n",
    "        i+=2\n",
    "        urls.append(\"https://api.weather.com/v1/location/VOBL:9:IN/observations/historical.json?apiKey=6532d6454b8aa370768e63d6ba5a832e&units=e&startDate=\"+start+\"&endDate=\"+end)\n",
    "       \n",
    "                "
   ]
  },
  {
   "cell_type": "code",
   "execution_count": 3,
   "metadata": {},
   "outputs": [
    {
     "data": {
      "text/plain": [
       "['https://api.weather.com/v1/location/VOBL:9:IN/observations/historical.json?apiKey=6532d6454b8aa370768e63d6ba5a832e&units=e&startDate=20100101&endDate=20100131',\n",
       " 'https://api.weather.com/v1/location/VOBL:9:IN/observations/historical.json?apiKey=6532d6454b8aa370768e63d6ba5a832e&units=e&startDate=20100201&endDate=20100131',\n",
       " 'https://api.weather.com/v1/location/VOBL:9:IN/observations/historical.json?apiKey=6532d6454b8aa370768e63d6ba5a832e&units=e&startDate=20100301&endDate=20100331',\n",
       " 'https://api.weather.com/v1/location/VOBL:9:IN/observations/historical.json?apiKey=6532d6454b8aa370768e63d6ba5a832e&units=e&startDate=20100401&endDate=20100430',\n",
       " 'https://api.weather.com/v1/location/VOBL:9:IN/observations/historical.json?apiKey=6532d6454b8aa370768e63d6ba5a832e&units=e&startDate=20100501&endDate=20100531',\n",
       " 'https://api.weather.com/v1/location/VOBL:9:IN/observations/historical.json?apiKey=6532d6454b8aa370768e63d6ba5a832e&units=e&startDate=20100601&endDate=20100630',\n",
       " 'https://api.weather.com/v1/location/VOBL:9:IN/observations/historical.json?apiKey=6532d6454b8aa370768e63d6ba5a832e&units=e&startDate=20100701&endDate=20100731',\n",
       " 'https://api.weather.com/v1/location/VOBL:9:IN/observations/historical.json?apiKey=6532d6454b8aa370768e63d6ba5a832e&units=e&startDate=20100801&endDate=20100831',\n",
       " 'https://api.weather.com/v1/location/VOBL:9:IN/observations/historical.json?apiKey=6532d6454b8aa370768e63d6ba5a832e&units=e&startDate=20100901&endDate=20100930',\n",
       " 'https://api.weather.com/v1/location/VOBL:9:IN/observations/historical.json?apiKey=6532d6454b8aa370768e63d6ba5a832e&units=e&startDate=20101001&endDate=20101031',\n",
       " 'https://api.weather.com/v1/location/VOBL:9:IN/observations/historical.json?apiKey=6532d6454b8aa370768e63d6ba5a832e&units=e&startDate=20101101&endDate=20101130',\n",
       " 'https://api.weather.com/v1/location/VOBL:9:IN/observations/historical.json?apiKey=6532d6454b8aa370768e63d6ba5a832e&units=e&startDate=20101201&endDate=20101231',\n",
       " 'https://api.weather.com/v1/location/VOBL:9:IN/observations/historical.json?apiKey=6532d6454b8aa370768e63d6ba5a832e&units=e&startDate=20110101&endDate=20110131',\n",
       " 'https://api.weather.com/v1/location/VOBL:9:IN/observations/historical.json?apiKey=6532d6454b8aa370768e63d6ba5a832e&units=e&startDate=20110201&endDate=20110131',\n",
       " 'https://api.weather.com/v1/location/VOBL:9:IN/observations/historical.json?apiKey=6532d6454b8aa370768e63d6ba5a832e&units=e&startDate=20110301&endDate=20110331',\n",
       " 'https://api.weather.com/v1/location/VOBL:9:IN/observations/historical.json?apiKey=6532d6454b8aa370768e63d6ba5a832e&units=e&startDate=20110401&endDate=20110430',\n",
       " 'https://api.weather.com/v1/location/VOBL:9:IN/observations/historical.json?apiKey=6532d6454b8aa370768e63d6ba5a832e&units=e&startDate=20110501&endDate=20110531',\n",
       " 'https://api.weather.com/v1/location/VOBL:9:IN/observations/historical.json?apiKey=6532d6454b8aa370768e63d6ba5a832e&units=e&startDate=20110601&endDate=20110630',\n",
       " 'https://api.weather.com/v1/location/VOBL:9:IN/observations/historical.json?apiKey=6532d6454b8aa370768e63d6ba5a832e&units=e&startDate=20110701&endDate=20110731',\n",
       " 'https://api.weather.com/v1/location/VOBL:9:IN/observations/historical.json?apiKey=6532d6454b8aa370768e63d6ba5a832e&units=e&startDate=20110801&endDate=20110831',\n",
       " 'https://api.weather.com/v1/location/VOBL:9:IN/observations/historical.json?apiKey=6532d6454b8aa370768e63d6ba5a832e&units=e&startDate=20110901&endDate=20110930',\n",
       " 'https://api.weather.com/v1/location/VOBL:9:IN/observations/historical.json?apiKey=6532d6454b8aa370768e63d6ba5a832e&units=e&startDate=20111001&endDate=20111031',\n",
       " 'https://api.weather.com/v1/location/VOBL:9:IN/observations/historical.json?apiKey=6532d6454b8aa370768e63d6ba5a832e&units=e&startDate=20111101&endDate=20111130',\n",
       " 'https://api.weather.com/v1/location/VOBL:9:IN/observations/historical.json?apiKey=6532d6454b8aa370768e63d6ba5a832e&units=e&startDate=20111201&endDate=20111231',\n",
       " 'https://api.weather.com/v1/location/VOBL:9:IN/observations/historical.json?apiKey=6532d6454b8aa370768e63d6ba5a832e&units=e&startDate=20120101&endDate=20120131',\n",
       " 'https://api.weather.com/v1/location/VOBL:9:IN/observations/historical.json?apiKey=6532d6454b8aa370768e63d6ba5a832e&units=e&startDate=20120201&endDate=20120229',\n",
       " 'https://api.weather.com/v1/location/VOBL:9:IN/observations/historical.json?apiKey=6532d6454b8aa370768e63d6ba5a832e&units=e&startDate=20120301&endDate=20120331',\n",
       " 'https://api.weather.com/v1/location/VOBL:9:IN/observations/historical.json?apiKey=6532d6454b8aa370768e63d6ba5a832e&units=e&startDate=20120401&endDate=20120430',\n",
       " 'https://api.weather.com/v1/location/VOBL:9:IN/observations/historical.json?apiKey=6532d6454b8aa370768e63d6ba5a832e&units=e&startDate=20120501&endDate=20120531',\n",
       " 'https://api.weather.com/v1/location/VOBL:9:IN/observations/historical.json?apiKey=6532d6454b8aa370768e63d6ba5a832e&units=e&startDate=20120601&endDate=20120630',\n",
       " 'https://api.weather.com/v1/location/VOBL:9:IN/observations/historical.json?apiKey=6532d6454b8aa370768e63d6ba5a832e&units=e&startDate=20120701&endDate=20120731',\n",
       " 'https://api.weather.com/v1/location/VOBL:9:IN/observations/historical.json?apiKey=6532d6454b8aa370768e63d6ba5a832e&units=e&startDate=20120801&endDate=20120831',\n",
       " 'https://api.weather.com/v1/location/VOBL:9:IN/observations/historical.json?apiKey=6532d6454b8aa370768e63d6ba5a832e&units=e&startDate=20120901&endDate=20120930',\n",
       " 'https://api.weather.com/v1/location/VOBL:9:IN/observations/historical.json?apiKey=6532d6454b8aa370768e63d6ba5a832e&units=e&startDate=20121001&endDate=20121031',\n",
       " 'https://api.weather.com/v1/location/VOBL:9:IN/observations/historical.json?apiKey=6532d6454b8aa370768e63d6ba5a832e&units=e&startDate=20121101&endDate=20121130',\n",
       " 'https://api.weather.com/v1/location/VOBL:9:IN/observations/historical.json?apiKey=6532d6454b8aa370768e63d6ba5a832e&units=e&startDate=20121201&endDate=20121231',\n",
       " 'https://api.weather.com/v1/location/VOBL:9:IN/observations/historical.json?apiKey=6532d6454b8aa370768e63d6ba5a832e&units=e&startDate=20130101&endDate=20130131',\n",
       " 'https://api.weather.com/v1/location/VOBL:9:IN/observations/historical.json?apiKey=6532d6454b8aa370768e63d6ba5a832e&units=e&startDate=20130201&endDate=20130131',\n",
       " 'https://api.weather.com/v1/location/VOBL:9:IN/observations/historical.json?apiKey=6532d6454b8aa370768e63d6ba5a832e&units=e&startDate=20130301&endDate=20130331',\n",
       " 'https://api.weather.com/v1/location/VOBL:9:IN/observations/historical.json?apiKey=6532d6454b8aa370768e63d6ba5a832e&units=e&startDate=20130401&endDate=20130430',\n",
       " 'https://api.weather.com/v1/location/VOBL:9:IN/observations/historical.json?apiKey=6532d6454b8aa370768e63d6ba5a832e&units=e&startDate=20130501&endDate=20130531',\n",
       " 'https://api.weather.com/v1/location/VOBL:9:IN/observations/historical.json?apiKey=6532d6454b8aa370768e63d6ba5a832e&units=e&startDate=20130601&endDate=20130630',\n",
       " 'https://api.weather.com/v1/location/VOBL:9:IN/observations/historical.json?apiKey=6532d6454b8aa370768e63d6ba5a832e&units=e&startDate=20130701&endDate=20130731',\n",
       " 'https://api.weather.com/v1/location/VOBL:9:IN/observations/historical.json?apiKey=6532d6454b8aa370768e63d6ba5a832e&units=e&startDate=20130801&endDate=20130831',\n",
       " 'https://api.weather.com/v1/location/VOBL:9:IN/observations/historical.json?apiKey=6532d6454b8aa370768e63d6ba5a832e&units=e&startDate=20130901&endDate=20130930',\n",
       " 'https://api.weather.com/v1/location/VOBL:9:IN/observations/historical.json?apiKey=6532d6454b8aa370768e63d6ba5a832e&units=e&startDate=20131001&endDate=20131031',\n",
       " 'https://api.weather.com/v1/location/VOBL:9:IN/observations/historical.json?apiKey=6532d6454b8aa370768e63d6ba5a832e&units=e&startDate=20131101&endDate=20131130',\n",
       " 'https://api.weather.com/v1/location/VOBL:9:IN/observations/historical.json?apiKey=6532d6454b8aa370768e63d6ba5a832e&units=e&startDate=20131201&endDate=20131231',\n",
       " 'https://api.weather.com/v1/location/VOBL:9:IN/observations/historical.json?apiKey=6532d6454b8aa370768e63d6ba5a832e&units=e&startDate=20140101&endDate=20140131',\n",
       " 'https://api.weather.com/v1/location/VOBL:9:IN/observations/historical.json?apiKey=6532d6454b8aa370768e63d6ba5a832e&units=e&startDate=20140201&endDate=20140131',\n",
       " 'https://api.weather.com/v1/location/VOBL:9:IN/observations/historical.json?apiKey=6532d6454b8aa370768e63d6ba5a832e&units=e&startDate=20140301&endDate=20140331',\n",
       " 'https://api.weather.com/v1/location/VOBL:9:IN/observations/historical.json?apiKey=6532d6454b8aa370768e63d6ba5a832e&units=e&startDate=20140401&endDate=20140430',\n",
       " 'https://api.weather.com/v1/location/VOBL:9:IN/observations/historical.json?apiKey=6532d6454b8aa370768e63d6ba5a832e&units=e&startDate=20140501&endDate=20140531',\n",
       " 'https://api.weather.com/v1/location/VOBL:9:IN/observations/historical.json?apiKey=6532d6454b8aa370768e63d6ba5a832e&units=e&startDate=20140601&endDate=20140630',\n",
       " 'https://api.weather.com/v1/location/VOBL:9:IN/observations/historical.json?apiKey=6532d6454b8aa370768e63d6ba5a832e&units=e&startDate=20140701&endDate=20140731',\n",
       " 'https://api.weather.com/v1/location/VOBL:9:IN/observations/historical.json?apiKey=6532d6454b8aa370768e63d6ba5a832e&units=e&startDate=20140801&endDate=20140831',\n",
       " 'https://api.weather.com/v1/location/VOBL:9:IN/observations/historical.json?apiKey=6532d6454b8aa370768e63d6ba5a832e&units=e&startDate=20140901&endDate=20140930',\n",
       " 'https://api.weather.com/v1/location/VOBL:9:IN/observations/historical.json?apiKey=6532d6454b8aa370768e63d6ba5a832e&units=e&startDate=20141001&endDate=20141031',\n",
       " 'https://api.weather.com/v1/location/VOBL:9:IN/observations/historical.json?apiKey=6532d6454b8aa370768e63d6ba5a832e&units=e&startDate=20141101&endDate=20141130',\n",
       " 'https://api.weather.com/v1/location/VOBL:9:IN/observations/historical.json?apiKey=6532d6454b8aa370768e63d6ba5a832e&units=e&startDate=20141201&endDate=20141231',\n",
       " 'https://api.weather.com/v1/location/VOBL:9:IN/observations/historical.json?apiKey=6532d6454b8aa370768e63d6ba5a832e&units=e&startDate=20150101&endDate=20150131',\n",
       " 'https://api.weather.com/v1/location/VOBL:9:IN/observations/historical.json?apiKey=6532d6454b8aa370768e63d6ba5a832e&units=e&startDate=20150201&endDate=20150131',\n",
       " 'https://api.weather.com/v1/location/VOBL:9:IN/observations/historical.json?apiKey=6532d6454b8aa370768e63d6ba5a832e&units=e&startDate=20150301&endDate=20150331',\n",
       " 'https://api.weather.com/v1/location/VOBL:9:IN/observations/historical.json?apiKey=6532d6454b8aa370768e63d6ba5a832e&units=e&startDate=20150401&endDate=20150430',\n",
       " 'https://api.weather.com/v1/location/VOBL:9:IN/observations/historical.json?apiKey=6532d6454b8aa370768e63d6ba5a832e&units=e&startDate=20150501&endDate=20150531',\n",
       " 'https://api.weather.com/v1/location/VOBL:9:IN/observations/historical.json?apiKey=6532d6454b8aa370768e63d6ba5a832e&units=e&startDate=20150601&endDate=20150630',\n",
       " 'https://api.weather.com/v1/location/VOBL:9:IN/observations/historical.json?apiKey=6532d6454b8aa370768e63d6ba5a832e&units=e&startDate=20150701&endDate=20150731',\n",
       " 'https://api.weather.com/v1/location/VOBL:9:IN/observations/historical.json?apiKey=6532d6454b8aa370768e63d6ba5a832e&units=e&startDate=20150801&endDate=20150831',\n",
       " 'https://api.weather.com/v1/location/VOBL:9:IN/observations/historical.json?apiKey=6532d6454b8aa370768e63d6ba5a832e&units=e&startDate=20150901&endDate=20150930',\n",
       " 'https://api.weather.com/v1/location/VOBL:9:IN/observations/historical.json?apiKey=6532d6454b8aa370768e63d6ba5a832e&units=e&startDate=20151001&endDate=20151031',\n",
       " 'https://api.weather.com/v1/location/VOBL:9:IN/observations/historical.json?apiKey=6532d6454b8aa370768e63d6ba5a832e&units=e&startDate=20151101&endDate=20151130',\n",
       " 'https://api.weather.com/v1/location/VOBL:9:IN/observations/historical.json?apiKey=6532d6454b8aa370768e63d6ba5a832e&units=e&startDate=20151201&endDate=20151231',\n",
       " 'https://api.weather.com/v1/location/VOBL:9:IN/observations/historical.json?apiKey=6532d6454b8aa370768e63d6ba5a832e&units=e&startDate=20160101&endDate=20160131',\n",
       " 'https://api.weather.com/v1/location/VOBL:9:IN/observations/historical.json?apiKey=6532d6454b8aa370768e63d6ba5a832e&units=e&startDate=20160201&endDate=20160229',\n",
       " 'https://api.weather.com/v1/location/VOBL:9:IN/observations/historical.json?apiKey=6532d6454b8aa370768e63d6ba5a832e&units=e&startDate=20160301&endDate=20160331',\n",
       " 'https://api.weather.com/v1/location/VOBL:9:IN/observations/historical.json?apiKey=6532d6454b8aa370768e63d6ba5a832e&units=e&startDate=20160401&endDate=20160430',\n",
       " 'https://api.weather.com/v1/location/VOBL:9:IN/observations/historical.json?apiKey=6532d6454b8aa370768e63d6ba5a832e&units=e&startDate=20160501&endDate=20160531',\n",
       " 'https://api.weather.com/v1/location/VOBL:9:IN/observations/historical.json?apiKey=6532d6454b8aa370768e63d6ba5a832e&units=e&startDate=20160601&endDate=20160630',\n",
       " 'https://api.weather.com/v1/location/VOBL:9:IN/observations/historical.json?apiKey=6532d6454b8aa370768e63d6ba5a832e&units=e&startDate=20160701&endDate=20160731',\n",
       " 'https://api.weather.com/v1/location/VOBL:9:IN/observations/historical.json?apiKey=6532d6454b8aa370768e63d6ba5a832e&units=e&startDate=20160801&endDate=20160831',\n",
       " 'https://api.weather.com/v1/location/VOBL:9:IN/observations/historical.json?apiKey=6532d6454b8aa370768e63d6ba5a832e&units=e&startDate=20160901&endDate=20160930',\n",
       " 'https://api.weather.com/v1/location/VOBL:9:IN/observations/historical.json?apiKey=6532d6454b8aa370768e63d6ba5a832e&units=e&startDate=20161001&endDate=20161031',\n",
       " 'https://api.weather.com/v1/location/VOBL:9:IN/observations/historical.json?apiKey=6532d6454b8aa370768e63d6ba5a832e&units=e&startDate=20161101&endDate=20161130',\n",
       " 'https://api.weather.com/v1/location/VOBL:9:IN/observations/historical.json?apiKey=6532d6454b8aa370768e63d6ba5a832e&units=e&startDate=20161201&endDate=20161231',\n",
       " 'https://api.weather.com/v1/location/VOBL:9:IN/observations/historical.json?apiKey=6532d6454b8aa370768e63d6ba5a832e&units=e&startDate=20170101&endDate=20170131',\n",
       " 'https://api.weather.com/v1/location/VOBL:9:IN/observations/historical.json?apiKey=6532d6454b8aa370768e63d6ba5a832e&units=e&startDate=20170201&endDate=20170131',\n",
       " 'https://api.weather.com/v1/location/VOBL:9:IN/observations/historical.json?apiKey=6532d6454b8aa370768e63d6ba5a832e&units=e&startDate=20170301&endDate=20170331',\n",
       " 'https://api.weather.com/v1/location/VOBL:9:IN/observations/historical.json?apiKey=6532d6454b8aa370768e63d6ba5a832e&units=e&startDate=20170401&endDate=20170430',\n",
       " 'https://api.weather.com/v1/location/VOBL:9:IN/observations/historical.json?apiKey=6532d6454b8aa370768e63d6ba5a832e&units=e&startDate=20170501&endDate=20170531',\n",
       " 'https://api.weather.com/v1/location/VOBL:9:IN/observations/historical.json?apiKey=6532d6454b8aa370768e63d6ba5a832e&units=e&startDate=20170601&endDate=20170630',\n",
       " 'https://api.weather.com/v1/location/VOBL:9:IN/observations/historical.json?apiKey=6532d6454b8aa370768e63d6ba5a832e&units=e&startDate=20170701&endDate=20170731',\n",
       " 'https://api.weather.com/v1/location/VOBL:9:IN/observations/historical.json?apiKey=6532d6454b8aa370768e63d6ba5a832e&units=e&startDate=20170801&endDate=20170831',\n",
       " 'https://api.weather.com/v1/location/VOBL:9:IN/observations/historical.json?apiKey=6532d6454b8aa370768e63d6ba5a832e&units=e&startDate=20170901&endDate=20170930',\n",
       " 'https://api.weather.com/v1/location/VOBL:9:IN/observations/historical.json?apiKey=6532d6454b8aa370768e63d6ba5a832e&units=e&startDate=20171001&endDate=20171031',\n",
       " 'https://api.weather.com/v1/location/VOBL:9:IN/observations/historical.json?apiKey=6532d6454b8aa370768e63d6ba5a832e&units=e&startDate=20171101&endDate=20171130',\n",
       " 'https://api.weather.com/v1/location/VOBL:9:IN/observations/historical.json?apiKey=6532d6454b8aa370768e63d6ba5a832e&units=e&startDate=20171201&endDate=20171231',\n",
       " 'https://api.weather.com/v1/location/VOBL:9:IN/observations/historical.json?apiKey=6532d6454b8aa370768e63d6ba5a832e&units=e&startDate=20180101&endDate=20180131',\n",
       " 'https://api.weather.com/v1/location/VOBL:9:IN/observations/historical.json?apiKey=6532d6454b8aa370768e63d6ba5a832e&units=e&startDate=20180201&endDate=20180131',\n",
       " 'https://api.weather.com/v1/location/VOBL:9:IN/observations/historical.json?apiKey=6532d6454b8aa370768e63d6ba5a832e&units=e&startDate=20180301&endDate=20180331',\n",
       " 'https://api.weather.com/v1/location/VOBL:9:IN/observations/historical.json?apiKey=6532d6454b8aa370768e63d6ba5a832e&units=e&startDate=20180401&endDate=20180430',\n",
       " 'https://api.weather.com/v1/location/VOBL:9:IN/observations/historical.json?apiKey=6532d6454b8aa370768e63d6ba5a832e&units=e&startDate=20180501&endDate=20180531',\n",
       " 'https://api.weather.com/v1/location/VOBL:9:IN/observations/historical.json?apiKey=6532d6454b8aa370768e63d6ba5a832e&units=e&startDate=20180601&endDate=20180630',\n",
       " 'https://api.weather.com/v1/location/VOBL:9:IN/observations/historical.json?apiKey=6532d6454b8aa370768e63d6ba5a832e&units=e&startDate=20180701&endDate=20180731',\n",
       " 'https://api.weather.com/v1/location/VOBL:9:IN/observations/historical.json?apiKey=6532d6454b8aa370768e63d6ba5a832e&units=e&startDate=20180801&endDate=20180831',\n",
       " 'https://api.weather.com/v1/location/VOBL:9:IN/observations/historical.json?apiKey=6532d6454b8aa370768e63d6ba5a832e&units=e&startDate=20180901&endDate=20180930',\n",
       " 'https://api.weather.com/v1/location/VOBL:9:IN/observations/historical.json?apiKey=6532d6454b8aa370768e63d6ba5a832e&units=e&startDate=20181001&endDate=20181031',\n",
       " 'https://api.weather.com/v1/location/VOBL:9:IN/observations/historical.json?apiKey=6532d6454b8aa370768e63d6ba5a832e&units=e&startDate=20181101&endDate=20181130',\n",
       " 'https://api.weather.com/v1/location/VOBL:9:IN/observations/historical.json?apiKey=6532d6454b8aa370768e63d6ba5a832e&units=e&startDate=20181201&endDate=20181231',\n",
       " 'https://api.weather.com/v1/location/VOBL:9:IN/observations/historical.json?apiKey=6532d6454b8aa370768e63d6ba5a832e&units=e&startDate=20190101&endDate=20190131',\n",
       " 'https://api.weather.com/v1/location/VOBL:9:IN/observations/historical.json?apiKey=6532d6454b8aa370768e63d6ba5a832e&units=e&startDate=20190201&endDate=20190131',\n",
       " 'https://api.weather.com/v1/location/VOBL:9:IN/observations/historical.json?apiKey=6532d6454b8aa370768e63d6ba5a832e&units=e&startDate=20190301&endDate=20190331',\n",
       " 'https://api.weather.com/v1/location/VOBL:9:IN/observations/historical.json?apiKey=6532d6454b8aa370768e63d6ba5a832e&units=e&startDate=20190401&endDate=20190430',\n",
       " 'https://api.weather.com/v1/location/VOBL:9:IN/observations/historical.json?apiKey=6532d6454b8aa370768e63d6ba5a832e&units=e&startDate=20190501&endDate=20190531',\n",
       " 'https://api.weather.com/v1/location/VOBL:9:IN/observations/historical.json?apiKey=6532d6454b8aa370768e63d6ba5a832e&units=e&startDate=20190601&endDate=20190630',\n",
       " 'https://api.weather.com/v1/location/VOBL:9:IN/observations/historical.json?apiKey=6532d6454b8aa370768e63d6ba5a832e&units=e&startDate=20190701&endDate=20190731',\n",
       " 'https://api.weather.com/v1/location/VOBL:9:IN/observations/historical.json?apiKey=6532d6454b8aa370768e63d6ba5a832e&units=e&startDate=20190801&endDate=20190831',\n",
       " 'https://api.weather.com/v1/location/VOBL:9:IN/observations/historical.json?apiKey=6532d6454b8aa370768e63d6ba5a832e&units=e&startDate=20190901&endDate=20190930',\n",
       " 'https://api.weather.com/v1/location/VOBL:9:IN/observations/historical.json?apiKey=6532d6454b8aa370768e63d6ba5a832e&units=e&startDate=20191001&endDate=20191031',\n",
       " 'https://api.weather.com/v1/location/VOBL:9:IN/observations/historical.json?apiKey=6532d6454b8aa370768e63d6ba5a832e&units=e&startDate=20191101&endDate=20191130',\n",
       " 'https://api.weather.com/v1/location/VOBL:9:IN/observations/historical.json?apiKey=6532d6454b8aa370768e63d6ba5a832e&units=e&startDate=20191201&endDate=20191231']"
      ]
     },
     "execution_count": 3,
     "metadata": {},
     "output_type": "execute_result"
    }
   ],
   "source": [
    "urls"
   ]
  },
  {
   "cell_type": "code",
   "execution_count": null,
   "metadata": {},
   "outputs": [],
   "source": []
  }
 ],
 "metadata": {
  "kernelspec": {
   "display_name": "Python 3",
   "language": "python",
   "name": "python3"
  },
  "language_info": {
   "codemirror_mode": {
    "name": "ipython",
    "version": 3
   },
   "file_extension": ".py",
   "mimetype": "text/x-python",
   "name": "python",
   "nbconvert_exporter": "python",
   "pygments_lexer": "ipython3",
   "version": "3.7.1"
  }
 },
 "nbformat": 4,
 "nbformat_minor": 2
}
