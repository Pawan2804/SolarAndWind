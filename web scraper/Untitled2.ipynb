{
 "cells": [
  {
   "cell_type": "code",
   "execution_count": null,
   "metadata": {},
   "outputs": [],
   "source": [
    "years = ['2010','2011','2012','2013','2014','2015','2016','2017','2018','2019']\n",
    "leapYears = ['2012','2016']\n",
    "Months = ['0101','0131','0201','0228','0301','0331','0401','0430','0501','0531','0601','0630','0701','0731','0801','0831','0901','0930','1001','1031','1101','1130','1201','1231']\n",
    "    "
   ]
  },
  {
   "cell_type": "code",
   "execution_count": null,
   "metadata": {},
   "outputs": [],
   "source": [
    "urls = []\n",
    "for year in years:\n",
    "    i = 0;\n",
    "    length = len(Months)\n",
    "    while i < length - 1:\n",
    "        start = year+Months[i]\n",
    "        if i == 2:\n",
    "            if year in leapYears:\n",
    "                end = year+'0229'\n",
    "        else:\n",
    "            end = year+Months[i+1]\n",
    "        i+=2\n",
    "        urls.append(\"https://api.weather.com/v1/location/VOBL:9:IN/observations/historical.json?apiKey=6532d6454b8aa370768e63d6ba5a832e&units=e&startDate=\"+start+\"&endDate=\"+end)\n",
    "       \n",
    "                "
   ]
  },
  {
   "cell_type": "code",
   "execution_count": null,
   "metadata": {},
   "outputs": [],
   "source": [
    "from urllib.request import urlopen\n",
    "import json\n",
    "import pandas as pd\n",
    "import grequests as gr"
   ]
  },
  {
   "cell_type": "code",
   "execution_count": null,
   "metadata": {},
   "outputs": [],
   "source": [
    "reqs = (gr.get(url) for url in urls)\n",
    "resp = gr.imap(reqs, gr.Pool(10))"
   ]
  }
 ],
 "metadata": {
  "kernelspec": {
   "display_name": "Python 3",
   "language": "python",
   "name": "python3"
  },
  "language_info": {
   "codemirror_mode": {
    "name": "ipython",
    "version": 3
   },
   "file_extension": ".py",
   "mimetype": "text/x-python",
   "name": "python",
   "nbconvert_exporter": "python",
   "pygments_lexer": "ipython3",
   "version": "3.7.1"
  }
 },
 "nbformat": 4,
 "nbformat_minor": 2
}
